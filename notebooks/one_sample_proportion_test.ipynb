{
 "cells": [
  {
   "cell_type": "code",
   "execution_count": 6,
   "metadata": {},
   "outputs": [],
   "source": [
    "import pandas as pd\n",
    "import numpy as np\n",
    "from scipy.stats import norm, t"
   ]
  },
  {
   "cell_type": "markdown",
   "metadata": {},
   "source": [
    "### Read data"
   ]
  },
  {
   "cell_type": "code",
   "execution_count": 7,
   "metadata": {},
   "outputs": [],
   "source": [
    "stack_overflow = pd.read_feather(r\"..\\data\\stack_overflow.feather\")  "
   ]
  },
  {
   "cell_type": "code",
   "execution_count": 8,
   "metadata": {},
   "outputs": [
    {
     "data": {
      "text/plain": [
       "Under 30       0.535604\n",
       "At least 30    0.464396\n",
       "Name: age_cat, dtype: float64"
      ]
     },
     "execution_count": 8,
     "metadata": {},
     "output_type": "execute_result"
    }
   ],
   "source": [
    "stack_overflow[\"age_cat\"].value_counts(normalize=True)"
   ]
  },
  {
   "cell_type": "markdown",
   "metadata": {},
   "source": [
    "### Hypotheses\n",
    "\n",
    "* H0: Proportion of Stack Overflow users under thirty = 0.5\n",
    "* HA: Proportion of Stack Overflow users under thirty != 0.5\n",
    "\n",
    "alpha = 0.1"
   ]
  },
  {
   "cell_type": "markdown",
   "metadata": {},
   "source": [
    "<img src=\"..\\data\\one_sample_prop_1.jpg\" width=\"600\" height=\"400\">"
   ]
  },
  {
   "cell_type": "markdown",
   "metadata": {},
   "source": [
    "<img src=\"..\\data\\one_sample_prop_2.jpg\" width=\"800\" height=\"300\">"
   ]
  },
  {
   "cell_type": "code",
   "execution_count": 9,
   "metadata": {},
   "outputs": [
    {
     "data": {
      "text/plain": [
       "3.385911440783663"
      ]
     },
     "execution_count": 9,
     "metadata": {},
     "output_type": "execute_result"
    }
   ],
   "source": [
    "alpha = 0.1\n",
    "p_hat = (stack_overflow[\"age_cat\"] == \"Under 30\").mean()\n",
    "p_0 = 0.50\n",
    "n = len(stack_overflow)\n",
    "numerator = p_hat - p_0\n",
    "denominator = np.sqrt(p_0 * (1- p_0) / n)\n",
    "z_score = numerator / denominator \n",
    "z_score"
   ]
  },
  {
   "cell_type": "code",
   "execution_count": 10,
   "metadata": {},
   "outputs": [
    {
     "name": "stdout",
     "output_type": "stream",
     "text": [
      "Left-tailed p-value is:1.00\n"
     ]
    }
   ],
   "source": [
    "# Left-tailed (\"less than\")\n",
    "p_value = norm.cdf(z_score)\n",
    "\n",
    "print(\"Left-tailed p-value is:{:.2f}\".format(p_value))"
   ]
  },
  {
   "cell_type": "code",
   "execution_count": 11,
   "metadata": {},
   "outputs": [
    {
     "name": "stdout",
     "output_type": "stream",
     "text": [
      "Right-tailed  p-value is:0.00\n"
     ]
    }
   ],
   "source": [
    "# Right-tailed (\"greater than\")\n",
    "p_value = 1- norm.cdf(z_score)\n",
    "print(\"Right-tailed  p-value is:{:.2f}\".format(p_value))"
   ]
  },
  {
   "cell_type": "code",
   "execution_count": 12,
   "metadata": {},
   "outputs": [
    {
     "name": "stdout",
     "output_type": "stream",
     "text": [
      "The p-value is:0.00\n",
      "p_value <= alpha. Reject H0 in favour of HA\n"
     ]
    }
   ],
   "source": [
    "# Two-tailed (\"less than\")\n",
    "p_value = norm.cdf(-z_score) + 1 - norm.cdf(z_score)\n",
    "p_value = 2 * (1 - norm.cdf(z_score))\n",
    "\n",
    "# Print the p-value\n",
    "print(\"The p-value is:{:.2f}\".format(p_value))\n",
    "\n",
    "if p_value <= alpha:\n",
    "    print(\"p_value <= alpha. Reject H0 in favour of HA\")\n",
    "else:\n",
    "    print(\"Failed to reject H0\")"
   ]
  }
 ],
 "metadata": {
  "kernelspec": {
   "display_name": "base",
   "language": "python",
   "name": "python3"
  },
  "language_info": {
   "codemirror_mode": {
    "name": "ipython",
    "version": 3
   },
   "file_extension": ".py",
   "mimetype": "text/x-python",
   "name": "python",
   "nbconvert_exporter": "python",
   "pygments_lexer": "ipython3",
   "version": "3.11.3"
  }
 },
 "nbformat": 4,
 "nbformat_minor": 2
}
